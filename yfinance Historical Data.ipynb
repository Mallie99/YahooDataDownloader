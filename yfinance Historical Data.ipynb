{
 "cells": [
  {
   "cell_type": "code",
   "execution_count": 1,
   "id": "bb744287",
   "metadata": {},
   "outputs": [],
   "source": [
    "from datetime import datetime\n",
    "import numpy as np\n",
    "import yfinance as yf"
   ]
  },
  {
   "cell_type": "code",
   "execution_count": 2,
   "id": "e77a6c7f",
   "metadata": {},
   "outputs": [],
   "source": [
    "start_date = datetime(2019, 1, 1)\n",
    "end_date = datetime(2019, 12, 31)\n",
    "tickers = ('SPY')"
   ]
  },
  {
   "cell_type": "code",
   "execution_count": 3,
   "id": "19c48378",
   "metadata": {},
   "outputs": [
    {
     "name": "stdout",
     "output_type": "stream",
     "text": [
      "[*********************100%***********************]  1 of 1 completed\n"
     ]
    }
   ],
   "source": [
    "df = yf.download(tickers, start=start_date, end = end_date, group_by='tickers')\n",
    "df.drop('Adj Close', axis=1, inplace=True)"
   ]
  },
  {
   "cell_type": "code",
   "execution_count": 4,
   "id": "23bad037",
   "metadata": {},
   "outputs": [],
   "source": [
    "df = df.merge(yf.Ticker(tickers).dividends, how=\"left\", on=[\"Date\"])\n",
    "df.fillna(0, inplace=True)"
   ]
  },
  {
   "cell_type": "code",
   "execution_count": 5,
   "id": "c6be6385",
   "metadata": {},
   "outputs": [],
   "source": [
    "df.loc[:, \"Returns\"] = np.log((df['Close'] + df['Dividends']) / df['Close'].shift(1))"
   ]
  },
  {
   "cell_type": "code",
   "execution_count": 6,
   "id": "9e0bae42",
   "metadata": {},
   "outputs": [],
   "source": [
    "df.to_excel('C:/Users/username/Desktop/' + tickers + '.xlsx', sheet_name=tickers)"
   ]
  }
 ],
 "metadata": {
  "kernelspec": {
   "display_name": "Python 3 (ipykernel)",
   "language": "python",
   "name": "python3"
  },
  "language_info": {
   "codemirror_mode": {
    "name": "ipython",
    "version": 3
   },
   "file_extension": ".py",
   "mimetype": "text/x-python",
   "name": "python",
   "nbconvert_exporter": "python",
   "pygments_lexer": "ipython3",
   "version": "3.9.7"
  }
 },
 "nbformat": 4,
 "nbformat_minor": 5
}
